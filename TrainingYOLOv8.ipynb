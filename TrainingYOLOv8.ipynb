{
 "cells": [
  {
   "cell_type": "code",
   "execution_count": null,
   "metadata": {},
   "outputs": [],
   "source": [
    "# !pip install ultralytics\n",
    "# !pip install opencv-python==4.8.0.74\n",
    "# !pip install wandb"
   ]
  },
  {
   "cell_type": "code",
   "execution_count": null,
   "metadata": {},
   "outputs": [],
   "source": [
    "from ultralytics import YOLO\n",
    "import os"
   ]
  },
  {
   "cell_type": "code",
   "execution_count": null,
   "metadata": {},
   "outputs": [],
   "source": [
    "# # Enter training folder\n",
    "# %cd D:/code/CS632_roaddamagedetection/RoadDamageDetection/training"
   ]
  },
  {
   "cell_type": "code",
   "execution_count": null,
   "metadata": {},
   "outputs": [],
   "source": [
    "# check the current directory \n",
    "current_path = os.getcwd()\n",
    "print(\"current directory:\", current_path)\n",
    "\n",
    "%cd RoadDamageDetection/training"
   ]
  },
  {
   "cell_type": "code",
   "execution_count": null,
   "metadata": {},
   "outputs": [],
   "source": [
    "# Change the datasets_dir value if you found path issue\n",
    "# !yolo settings\n",
    "# !gedit ~/.config/Ultralytics/settings.yaml"
   ]
  },
  {
   "cell_type": "code",
   "execution_count": null,
   "metadata": {},
   "outputs": [],
   "source": [
    "# Project Name\n",
    "_project = \"runs/RDD_JapanIndiaChina\"\n",
    "_name = \"Baseline_YOLOv8m\"\n",
    "_data = os.path.join(current_path, \"dataset\", \"rddJapanIndiaChinaFiltered\", \"rdd_JapanIndiaChina.yaml\")\n",
    "print(_data)\n",
    "\n",
    "# Epoch and warmup epoch\n",
    "_epoch = 100\n",
    "_warmup_epochs = int(_epoch*0.05)\n",
    "\n",
    "model = YOLO('yolov8m.pt')\n",
    "results = model.train(data=_data,\n",
    "                      epochs=_epoch,\n",
    "                      warmup_epochs=_warmup_epochs,\n",
    "                      batch=32,\n",
    "                      imgsz=640,\n",
    "                      save_period=10,\n",
    "                      workers=1,\n",
    "                      project=_project,\n",
    "                      name=_name,\n",
    "                      seed=1337,\n",
    "                      cos_lr=True,\n",
    "                      mosaic=0.0,\n",
    "                      \n",
    ")"
   ]
  },
  {
   "cell_type": "code",
   "execution_count": null,
   "metadata": {},
   "outputs": [],
   "source": [
    "# Resume Training\n",
    "# weight_path = \"training/RDD_JapanIndia/Baseline_YOLOv8Small_Filtered2/weights/last.pt\"\n",
    "\n",
    "# model_Trained = YOLO(weight_path) # pass any model type\n",
    "# results = model_Trained.train(\n",
    "#     resume=True\n",
    "# )"
   ]
  }
 ],
 "metadata": {
  "kernelspec": {
   "display_name": "general",
   "language": "python",
   "name": "python3"
  },
  "language_info": {
   "codemirror_mode": {
    "name": "ipython",
    "version": 3
   },
   "file_extension": ".py",
   "mimetype": "text/x-python",
   "name": "python",
   "nbconvert_exporter": "python",
   "pygments_lexer": "ipython3",
   "version": "3.8.18"
  }
 },
 "nbformat": 4,
 "nbformat_minor": 2
}
